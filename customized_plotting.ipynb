{
 "cells": [
  {
   "cell_type": "markdown",
   "metadata": {},
   "source": [
    "# Data visualistation with matplotlib\n"
   ]
  },
  {
   "cell_type": "markdown",
   "metadata": {},
   "source": [
    "## 1. Import matplotlib modules"
   ]
  },
  {
   "cell_type": "code",
   "execution_count": 5,
   "metadata": {},
   "outputs": [],
   "source": [
    "import numpy as np \n",
    "import math \n",
    "import matplotlib.pyplot as plt \n",
    "import matplotlib.image as mpimg \n",
    "from matplotlib.colors import LogNorm \n",
    "import scipy as sp \n",
    "import tkinter \n",
    "from tkinter import filedialog \n",
    "import sys"
   ]
  },
  {
   "cell_type": "markdown",
   "metadata": {},
   "source": [
    "Matplotlib has many different backends, usually its fine to stick to the default. But sometimes it is necessary to change the backend (before importing the plotting module ```pyplot```). The full list of available backends reads:"
   ]
  },
  {
   "cell_type": "markdown",
   "metadata": {},
   "source": [
    "[u'pgf', u'cairo', u'MacOSX', u'CocoaAgg', u'gdk', u'ps', u'GTKAgg', u'nbAgg', u'GTK', u'Qt5Agg', u'template', u'emf', u'GTK3Cairo', u'GTK3Agg', u'WX', u'Qt4Agg', u'TkAgg', u'agg', u'svg', u'GTKCairo', u'WXAgg', u'WebAgg', u'pdf']"
   ]
  },
  {
   "cell_type": "markdown",
   "metadata": {},
   "source": [
    "When working from within a jupyter notebook, we can choose *matplotlib* backend with a magic function"
   ]
  },
  {
   "cell_type": "code",
   "execution_count": 6,
   "metadata": {
    "collapsed": false,
    "jupyter": {
     "outputs_hidden": false
    }
   },
   "outputs": [
    {
     "name": "stdout",
     "output_type": "stream",
     "text": [
      "Available matplotlib backends: ['tk', 'gtk', 'gtk3', 'wx', 'qt4', 'qt5', 'qt', 'osx', 'nbagg', 'notebook', 'agg', 'svg', 'pdf', 'ps', 'inline', 'ipympl', 'widget']\n"
     ]
    }
   ],
   "source": [
    "%matplotlib --list"
   ]
  },
  {
   "cell_type": "code",
   "execution_count": 7,
   "metadata": {
    "collapsed": false,
    "jupyter": {
     "outputs_hidden": false
    }
   },
   "outputs": [],
   "source": [
    "%matplotlib inline\n",
    "#% matplotlib notebook"
   ]
  },
  {
   "cell_type": "markdown",
   "metadata": {},
   "source": [
    "Now, we import ```pyplot``` the main plotting module of *matplotlib*"
   ]
  },
  {
   "cell_type": "code",
   "execution_count": 8,
   "metadata": {},
   "outputs": [],
   "source": [
    "import matplotlib.pyplot as plt"
   ]
  },
  {
   "cell_type": "markdown",
   "metadata": {},
   "source": [
    "## 2. The default plot"
   ]
  },
  {
   "cell_type": "markdown",
   "metadata": {},
   "source": [
    "Let's create some data (normal distribution)"
   ]
  },
  {
   "cell_type": "code",
   "execution_count": 9,
   "metadata": {},
   "outputs": [],
   "source": [
    "import numpy as np\n",
    "data = np.random.normal(loc=5., scale=2., size=(10000,))"
   ]
  },
  {
   "cell_type": "markdown",
   "metadata": {},
   "source": [
    "and plot a simple histogram of our data"
   ]
  },
  {
   "cell_type": "code",
   "execution_count": 11,
   "metadata": {
    "collapsed": false,
    "jupyter": {
     "outputs_hidden": false
    }
   },
   "outputs": [
    {
     "data": {
      "image/png": "[encoded data removed]",
      "text/plain": [
       "<Figure size 432x288 with 1 Axes>"
      ]
     },
     "metadata": {
      "needs_background": "light"
     },
     "output_type": "display_data"
    }
   ],
   "source": [
    "fig = plt.figure()\n",
    "ax  = fig.add_subplot(111)\n",
    "ax.hist(data, range=(-5,15), bins=20)\n",
    "plt.show()"
   ]
  },
  {
   "cell_type": "markdown",
   "metadata": {},
   "source": [
    "## 3. Adding more to the plot"
   ]
  },
  {
   "cell_type": "markdown",
   "metadata": {},
   "source": [
    "First, we are going to fit a Gaussian profile to our function"
   ]
  },
  {
   "cell_type": "code",
   "execution_count": 12,
   "metadata": {
    "collapsed": false,
    "jupyter": {
     "outputs_hidden": false
    }
   },
   "outputs": [],
   "source": [
    "from scipy.stats import norm\n",
    "mu,sigma = norm.fit(data)"
   ]
  },
  {
   "cell_type": "markdown",
   "metadata": {},
   "source": [
    "and plot it on top of our histogram"
   ]
  },
  {
   "cell_type": "code",
   "execution_count": 13,
   "metadata": {
    "collapsed": false,
    "jupyter": {
     "outputs_hidden": false
    }
   },
   "outputs": [
    {
     "data": {
      "image/png": "[encoded data removed]",
      "text/plain": [
       "<Figure size 432x288 with 1 Axes>"
      ]
     },
     "metadata": {
      "needs_background": "light"
     },
     "output_type": "display_data"
    }
   ],
   "source": [
    "fig = plt.figure()\n",
    "ax  = fig.add_subplot(111)\n",
    "ax.hist(data, range=(-5,15), bins=20)\n",
    "ax.plot(np.arange(-5,15,0.1),norm.pdf(np.arange(-5,15,0.1),mu,sigma))\n",
    "plt.show()"
   ]
  },
  {
   "cell_type": "markdown",
   "metadata": {},
   "source": [
    "let's make a bit easier to read (colors, legends, axis lables, etc..)"
   ]
  },
  {
   "cell_type": "code",
   "execution_count": 14,
   "metadata": {
    "collapsed": false,
    "jupyter": {
     "outputs_hidden": false
    }
   },
   "outputs": [
    {
     "data": {
      "image/png": "[encoded data removed]",
      "text/plain": [
       "<Figure size 432x288 with 1 Axes>"
      ]
     },
     "metadata": {
      "needs_background": "light"
     },
     "output_type": "display_data"
    }
   ],
   "source": [
    "fig = plt.figure()\n",
    "ax  = fig.add_subplot(111)\n",
    "ax.set_title('My fancy plot')\n",
    "ax.hist(data, range=(-5,15), bins=20, label='data', color='0.75', lw=0.2)\n",
    "ax.plot(np.arange(-5,15,0.1),norm.pdf(np.arange(-5,15,0.1),mu,sigma), label='fit', color='r')\n",
    "ax.set_xlabel(r'Some variable $\\varphi$')\n",
    "ax.set_ylabel(r'Probability density')\n",
    "ax.legend(loc=1)\n",
    "plt.show()"
   ]
  },
  {
   "cell_type": "markdown",
   "metadata": {},
   "source": [
    "## 4. My custom plot"
   ]
  },
  {
   "cell_type": "code",
   "execution_count": 5,
   "metadata": {},
   "outputs": [
    {
     "data": {
      "image/png": "[encoded data removed]",
      "text/plain": [
       "<Figure size 1440x720 with 4 Axes>"
      ]
     },
     "metadata": {
      "needs_background": "light"
     },
     "output_type": "display_data"
    }
   ],
   "source": [
    "root = tkinter.Tk() \n",
    "root.withdraw() \n",
    "\n",
    "file_phd = filedialog.askopenfilename() \n",
    "image_phd = mpimg.imread(file_phd) \n",
    "\n",
    "r, g, b = image_phd[:,:,0], image_phd[:,:,1], image_phd[:,:,2]\n",
    "image_phd_concat = 0.2990 * r + 0.5870 * g + 0.1140 * b\n",
    "\n",
    "FT_image_phd = np.fft.fft2(image_phd_concat) \n",
    "\n",
    "FT_image_amp = np.real(np.sqrt(np.multiply(FT_image_phd, np.conj(FT_image_phd)))) \n",
    "FT_image_int = FT_image_amp ** 2\n",
    "\n",
    "delta_x = 0.033\n",
    "delta_y = 0 \n",
    "shape_array = np.shape(FT_image_amp) \n",
    "s_y = shape_array[0]\n",
    "s_x = shape_array[1] \n",
    "B = np.zeros((s_y , s_x) , dtype = complex) \n",
    "\n",
    "for i_col in range(0 , s_x , 1):\n",
    "    B[: , i_col] = 1 + np.exp(-2 * math.pi * 1j * delta_x * i_col)\n",
    "\n",
    "amplitude_B = np.real(np.sqrt(np.multiply(B,np.conj(B))))\n",
    "intensity_B = np.real(amplitude_B ** 2)\n",
    "\n",
    "A_B = np.multiply(FT_image_phd , B) \n",
    "amp_A_B = np.fft.fftshift(abs(A_B))\n",
    "\n",
    "fig_sub ,  (ax_1 , ax_2) = plt.subplots(1 , 2 ,  figsize = (20 , 10))\n",
    "\n",
    "sf_1 = ax_1.imshow(amplitude_B , aspect = 'auto' , cmap = 'plasma')\n",
    "fig_sub.colorbar(sf_1 , ax = ax_1) \n",
    "ax_1.title.set_text('Absolute value of FT{B}') \n",
    "ax_1.set(xlabel = 'X' , ylabel = 'Y')\n",
    "\n",
    "sf_2 = ax_2.imshow(amp_A_B , aspect = 'auto' , cmap = 'plasma')\n",
    "fig_sub.colorbar(sf_2 , ax = ax_2)\n",
    "ax_2.title.set_text('Absolute value of FT{AB}')\n",
    "_ = ax_2.set(xlabel = 'X' , ylabel = 'Y') "
   ]
  },
  {
   "cell_type": "markdown",
   "metadata": {},
   "source": [
    "## 5. Saving the plot as a PDF"
   ]
  },
  {
   "cell_type": "code",
   "execution_count": null,
   "metadata": {
    "collapsed": false,
    "jupyter": {
     "outputs_hidden": false
    }
   },
   "outputs": [],
   "source": [
    "fig = plt.figure()\n",
    "ax  = fig.add_subplot(111)\n",
    "ax.set_title('My fancy plot')\n",
    "ax.hist(data, range=(-5,15), bins=20, normed=True, label='data', color='0.75', lw=0.2)\n",
    "ax.plot(np.arange(-5,15,0.1),norm.pdf(np.arange(-5,15,0.1),mu,sigma), label='fit', color='r')\n",
    "ax.set_xlabel(r'Some variable $\\varphi$')\n",
    "ax.legend(loc=2, frameon=False)\n",
    "ax.spines['top'].set_visible(False)\n",
    "ax.spines['left'].set_visible(False)\n",
    "ax.spines['right'].set_visible(False)\n",
    "ax.tick_params(axis='x', which='both', bottom='on', top='off')\n",
    "ax.tick_params(axis='y', which='both', left='off', right='off', labelleft='off')\n",
    "fig.savefig('my_fancy_plot.pdf', format='pdf', bbox_inches='tight')"
   ]
  }
 ],
 "metadata": {
  "kernelspec": {
   "display_name": "base",
   "language": "python",
   "name": "base"
  },
  "language_info": {
   "codemirror_mode": {
    "name": "ipython",
    "version": 3
   },
   "file_extension": ".py",
   "mimetype": "text/x-python",
   "name": "python",
   "nbconvert_exporter": "python",
   "pygments_lexer": "ipython3",
   "version": "3.8.5"
  }
 },
 "nbformat": 4,
 "nbformat_minor": 4
}
